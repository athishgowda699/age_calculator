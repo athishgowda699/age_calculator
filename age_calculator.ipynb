{
 "cells": [
  {
   "cell_type": "code",
   "execution_count": 1,
   "id": "ff8754a3",
   "metadata": {},
   "outputs": [],
   "source": [
    "from datetime import datetime as dt\n",
    "\n",
    "class age_calculator:\n",
    "    def __init__(self):   \n",
    "        while True:\n",
    "            try:            \n",
    "                print('\\n-----** Welcome to age calculator **-----')\n",
    "                print('\\n\\t\\t1.Start\\n\\t\\t2.Exit')\n",
    "                in1=int(input())\n",
    "                if in1==1:\n",
    "                    self.home_page()\n",
    "                elif in1==2:\n",
    "                    break\n",
    "                else:\n",
    "                    print('\\nEnter the proper number')\n",
    "                    continue\n",
    "            except ValueError:\n",
    "                print('\\nEnter the proper key')\n",
    "                continue\n",
    "                \n",
    "    def home_page(self):\n",
    "        while True:\n",
    "            try:            \n",
    "                print('\\n\\n-------** Welcome to Home page **-------')\n",
    "                print('\\n* Calculate your age using the below options *')\n",
    "                print('\\n\\t\\t1.For the date you wish\\n\\t\\t2.For the current date\\n\\t\\t3.Go Back')\n",
    "                in3=int(input())\n",
    "                if in3==1:\n",
    "                    self.manual_calculator()\n",
    "                elif in3==2:\n",
    "                    self.current_calculator()\n",
    "                elif in3==3:\n",
    "                    break\n",
    "                else:\n",
    "                    print('\\nEnter the proper number')\n",
    "                    continue\n",
    "            except ValueError:\n",
    "                print('\\nEnter the proper key')\n",
    "                continue\n",
    "        \n",
    "        \n",
    "            \n",
    "    def manual_calculator(self):\n",
    "        a=input('Enter your DOB in date-month-year format : ')\n",
    "        b=dt.strptime(a,'%d-%m-%Y')\n",
    "\n",
    "        c=input('Enter the date to know what will be your age on that particular day in date-month-year format : ')\n",
    "        d=dt.strptime(c,'%d-%m-%Y')\n",
    "\n",
    "        e=(d-b).days\n",
    "\n",
    "        print('\\nYou will be / was {} years {} months old'.format((e//365),(e%365//30)))\n",
    "        \n",
    "    def current_calculator(self):\n",
    "        a=input('Enter your DOB in year-month-date format : ')\n",
    "        b=dt.strptime(a,'%Y-%m-%d')\n",
    "\n",
    "        c=dt.now()\n",
    "        d=c.strftime('%Y-%m-%d')\n",
    "        e=dt.strptime(d,'%Y-%m-%d')\n",
    "\n",
    "        f=(e-b).days\n",
    "\n",
    "        print('\\nYou are {} years {} months old'.format((f//365),(f%365//30)))              "
   ]
  },
  {
   "cell_type": "code",
   "execution_count": 2,
   "id": "b846ddcc",
   "metadata": {},
   "outputs": [
    {
     "name": "stdout",
     "output_type": "stream",
     "text": [
      "\n",
      "-----** Welcome to age calculator **-----\n",
      "\n",
      "\t\t1.Start\n",
      "\t\t2.Exit\n",
      "2\n"
     ]
    }
   ],
   "source": [
    "a=age_calculator()"
   ]
  },
  {
   "cell_type": "code",
   "execution_count": null,
   "id": "9ef72934",
   "metadata": {},
   "outputs": [],
   "source": []
  }
 ],
 "metadata": {
  "kernelspec": {
   "display_name": "Python 3 (ipykernel)",
   "language": "python",
   "name": "python3"
  },
  "language_info": {
   "codemirror_mode": {
    "name": "ipython",
    "version": 3
   },
   "file_extension": ".py",
   "mimetype": "text/x-python",
   "name": "python",
   "nbconvert_exporter": "python",
   "pygments_lexer": "ipython3",
   "version": "3.10.1"
  }
 },
 "nbformat": 4,
 "nbformat_minor": 5
}
